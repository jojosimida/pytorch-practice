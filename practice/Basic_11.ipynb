{
 "cells": [
  {
   "cell_type": "code",
   "execution_count": 1,
   "metadata": {},
   "outputs": [],
   "source": [
    "import torch\n",
    "import torch.nn as nn\n",
    "import torch.utils.data as Data\n",
    "import torchvision\n",
    "import matplotlib.pyplot as plt\n",
    "from mpl_toolkits.mplot3d import Axes3D\n",
    "from matplotlib import cm\n",
    "import numpy as np"
   ]
  },
  {
   "cell_type": "code",
   "execution_count": 2,
   "metadata": {},
   "outputs": [],
   "source": [
    "# torch.manual_seed(1)    # reproducible\n",
    "\n",
    "# Hyper Parameters\n",
    "EPOCH = 10\n",
    "BATCH_SIZE = 64\n",
    "LR = 0.005         # learning rate\n",
    "DOWNLOAD_MNIST = False\n",
    "N_TEST_IMG = 5"
   ]
  },
  {
   "cell_type": "code",
   "execution_count": 3,
   "metadata": {},
   "outputs": [],
   "source": [
    "# Mnist digits dataset\n",
    "train_data = torchvision.datasets.MNIST(\n",
    "    root='./mnist/',\n",
    "    train=True,                                     # this is training data\n",
    "    \n",
    "    # Converts a PIL.Image or numpy.ndarray to\n",
    "    # torch.FloatTensor of shape (C x H x W) and normalize in the range [0.0, 1.0]\n",
    "    transform=torchvision.transforms.ToTensor(),    \n",
    "    download=DOWNLOAD_MNIST,                        # download it if you don't have it\n",
    ")"
   ]
  },
  {
   "cell_type": "code",
   "execution_count": 4,
   "metadata": {},
   "outputs": [
    {
     "name": "stdout",
     "output_type": "stream",
     "text": [
      "torch.Size([60000, 28, 28])\n",
      "torch.Size([60000])\n"
     ]
    },
    {
     "data": {
      "image/png": "[encoded data removed]",
      "text/plain": [
       "<Figure size 432x288 with 1 Axes>"
      ]
     },
     "metadata": {},
     "output_type": "display_data"
    }
   ],
   "source": [
    "# plot one example\n",
    "print(train_data.train_data.size())     # (60000, 28, 28)\n",
    "print(train_data.train_labels.size())   # (60000)\n",
    "plt.imshow(train_data.train_data[2].numpy(), cmap='gray')\n",
    "plt.title('%i' % train_data.train_labels[2])\n",
    "plt.show()"
   ]
  },
  {
   "cell_type": "code",
   "execution_count": 5,
   "metadata": {},
   "outputs": [],
   "source": [
    "# Data Loader for easy mini-batch return in training, the image batch shape will be (64, 1, 28, 28)\n",
    "train_loader = Data.DataLoader(dataset=train_data, batch_size=BATCH_SIZE, shuffle=True)"
   ]
  },
  {
   "cell_type": "code",
   "execution_count": 6,
   "metadata": {},
   "outputs": [],
   "source": [
    "class AutoEncoder(nn.Module):\n",
    "    def __init__(self):\n",
    "        super(AutoEncoder, self).__init__()\n",
    "\n",
    "        self.encoder = nn.Sequential(\n",
    "            nn.Linear(28*28, 128),\n",
    "            nn.Tanh(),\n",
    "            nn.Linear(128, 64),\n",
    "            nn.Tanh(),\n",
    "            nn.Linear(64, 12),\n",
    "            nn.Tanh(),\n",
    "            nn.Linear(12, 3),   # compress to 3 features which can be visualized in plt\n",
    "        )\n",
    "        self.decoder = nn.Sequential(\n",
    "            nn.Linear(3, 12),\n",
    "            nn.Tanh(),\n",
    "            nn.Linear(12, 64),\n",
    "            nn.Tanh(),\n",
    "            nn.Linear(64, 128),\n",
    "            nn.Tanh(),\n",
    "            nn.Linear(128, 28*28),\n",
    "            nn.Sigmoid(),       # compress to a range (0, 1)\n",
    "        )\n",
    "\n",
    "    def forward(self, x):\n",
    "        encoded = self.encoder(x)\n",
    "        decoded = self.decoder(encoded)\n",
    "        return encoded, decoded"
   ]
  },
  {
   "cell_type": "code",
   "execution_count": 7,
   "metadata": {},
   "outputs": [],
   "source": [
    "autoencoder = AutoEncoder()\n",
    "\n",
    "optimizer = torch.optim.Adam(autoencoder.parameters(), lr=LR)\n",
    "loss_func = nn.MSELoss()"
   ]
  },
  {
   "cell_type": "code",
   "execution_count": 8,
   "metadata": {},
   "outputs": [
    {
     "data": {
      "image/png": "[encoded data removed]",
      "text/plain": [
       "<Figure size 360x144 with 10 Axes>"
      ]
     },
     "metadata": {},
     "output_type": "display_data"
    }
   ],
   "source": [
    "# initialize figure\n",
    "f, a = plt.subplots(2, N_TEST_IMG, figsize=(5, 2))\n",
    "plt.ion()   # continuously plot\n",
    "\n",
    "# original data (first row) for viewing\n",
    "view_data = train_data.train_data[:N_TEST_IMG].view(-1, 28*28).type(torch.FloatTensor)/255.\n",
    "for i in range(N_TEST_IMG):\n",
    "    a[0][i].imshow(np.reshape(view_data.data.numpy()[i], (28, 28)), cmap='gray'); a[0][i].set_xticks(()); a[0][i].set_yticks(())"
   ]
  },
  {
   "cell_type": "code",
   "execution_count": 9,
   "metadata": {},
   "outputs": [
    {
     "name": "stdout",
     "output_type": "stream",
     "text": [
      "Epoch:  0 | train loss: 0.2306\n",
      "Epoch:  0 | train loss: 0.0709\n",
      "Epoch:  0 | train loss: 0.0703\n",
      "Epoch:  0 | train loss: 0.0643\n",
      "Epoch:  0 | train loss: 0.0594\n",
      "Epoch:  0 | train loss: 0.0576\n",
      "Epoch:  0 | train loss: 0.0548\n",
      "Epoch:  0 | train loss: 0.0498\n",
      "Epoch:  0 | train loss: 0.0545\n",
      "Epoch:  0 | train loss: 0.0460\n",
      "Epoch:  1 | train loss: 0.0500\n",
      "Epoch:  1 | train loss: 0.0486\n",
      "Epoch:  1 | train loss: 0.0473\n",
      "Epoch:  1 | train loss: 0.0444\n",
      "Epoch:  1 | train loss: 0.0469\n",
      "Epoch:  1 | train loss: 0.0475\n",
      "Epoch:  1 | train loss: 0.0471\n",
      "Epoch:  1 | train loss: 0.0488\n",
      "Epoch:  1 | train loss: 0.0458\n",
      "Epoch:  1 | train loss: 0.0452\n",
      "Epoch:  2 | train loss: 0.0424\n",
      "Epoch:  2 | train loss: 0.0443\n",
      "Epoch:  2 | train loss: 0.0427\n",
      "Epoch:  2 | train loss: 0.0385\n",
      "Epoch:  2 | train loss: 0.0423\n",
      "Epoch:  2 | train loss: 0.0417\n",
      "Epoch:  2 | train loss: 0.0397\n",
      "Epoch:  2 | train loss: 0.0396\n",
      "Epoch:  2 | train loss: 0.0412\n",
      "Epoch:  2 | train loss: 0.0448\n",
      "Epoch:  3 | train loss: 0.0438\n",
      "Epoch:  3 | train loss: 0.0394\n",
      "Epoch:  3 | train loss: 0.0453\n",
      "Epoch:  3 | train loss: 0.0399\n",
      "Epoch:  3 | train loss: 0.0380\n",
      "Epoch:  3 | train loss: 0.0397\n",
      "Epoch:  3 | train loss: 0.0446\n",
      "Epoch:  3 | train loss: 0.0409\n",
      "Epoch:  3 | train loss: 0.0382\n",
      "Epoch:  3 | train loss: 0.0393\n",
      "Epoch:  4 | train loss: 0.0459\n",
      "Epoch:  4 | train loss: 0.0410\n",
      "Epoch:  4 | train loss: 0.0435\n",
      "Epoch:  4 | train loss: 0.0373\n",
      "Epoch:  4 | train loss: 0.0379\n",
      "Epoch:  4 | train loss: 0.0391\n",
      "Epoch:  4 | train loss: 0.0384\n",
      "Epoch:  4 | train loss: 0.0384\n",
      "Epoch:  4 | train loss: 0.0392\n",
      "Epoch:  4 | train loss: 0.0406\n",
      "Epoch:  5 | train loss: 0.0356\n",
      "Epoch:  5 | train loss: 0.0395\n",
      "Epoch:  5 | train loss: 0.0422\n",
      "Epoch:  5 | train loss: 0.0361\n",
      "Epoch:  5 | train loss: 0.0473\n",
      "Epoch:  5 | train loss: 0.0377\n",
      "Epoch:  5 | train loss: 0.0400\n",
      "Epoch:  5 | train loss: 0.0384\n",
      "Epoch:  5 | train loss: 0.0375\n",
      "Epoch:  5 | train loss: 0.0402\n",
      "Epoch:  6 | train loss: 0.0362\n",
      "Epoch:  6 | train loss: 0.0365\n",
      "Epoch:  6 | train loss: 0.0373\n",
      "Epoch:  6 | train loss: 0.0417\n",
      "Epoch:  6 | train loss: 0.0389\n",
      "Epoch:  6 | train loss: 0.0399\n",
      "Epoch:  6 | train loss: 0.0398\n",
      "Epoch:  6 | train loss: 0.0376\n",
      "Epoch:  6 | train loss: 0.0352\n",
      "Epoch:  6 | train loss: 0.0376\n",
      "Epoch:  7 | train loss: 0.0328\n",
      "Epoch:  7 | train loss: 0.0394\n",
      "Epoch:  7 | train loss: 0.0348\n",
      "Epoch:  7 | train loss: 0.0388\n",
      "Epoch:  7 | train loss: 0.0373\n",
      "Epoch:  7 | train loss: 0.0392\n",
      "Epoch:  7 | train loss: 0.0384\n",
      "Epoch:  7 | train loss: 0.0368\n",
      "Epoch:  7 | train loss: 0.0379\n",
      "Epoch:  7 | train loss: 0.0336\n",
      "Epoch:  8 | train loss: 0.0374\n",
      "Epoch:  8 | train loss: 0.0339\n",
      "Epoch:  8 | train loss: 0.0383\n",
      "Epoch:  8 | train loss: 0.0426\n",
      "Epoch:  8 | train loss: 0.0404\n",
      "Epoch:  8 | train loss: 0.0395\n",
      "Epoch:  8 | train loss: 0.0340\n",
      "Epoch:  8 | train loss: 0.0380\n",
      "Epoch:  8 | train loss: 0.0401\n",
      "Epoch:  8 | train loss: 0.0422\n",
      "Epoch:  9 | train loss: 0.0389\n",
      "Epoch:  9 | train loss: 0.0384\n",
      "Epoch:  9 | train loss: 0.0358\n",
      "Epoch:  9 | train loss: 0.0379\n",
      "Epoch:  9 | train loss: 0.0355\n",
      "Epoch:  9 | train loss: 0.0394\n",
      "Epoch:  9 | train loss: 0.0366\n",
      "Epoch:  9 | train loss: 0.0367\n",
      "Epoch:  9 | train loss: 0.0356\n",
      "Epoch:  9 | train loss: 0.0369\n"
     ]
    }
   ],
   "source": [
    "for epoch in range(EPOCH):\n",
    "    for step, (x, b_label) in enumerate(train_loader):\n",
    "        b_x = x.view(-1, 28*28)   # batch x, shape (batch, 28*28)\n",
    "        b_y = x.view(-1, 28*28)   # batch y, shape (batch, 28*28)\n",
    "\n",
    "        encoded, decoded = autoencoder(b_x)\n",
    "\n",
    "        loss = loss_func(decoded, b_y)      # mean square error\n",
    "        optimizer.zero_grad()               # clear gradients for this training step\n",
    "        loss.backward()                     # backpropagation, compute gradients\n",
    "        optimizer.step()                    # apply gradients\n",
    "\n",
    "        if step % 100 == 0:\n",
    "            print('Epoch: ', epoch, '| train loss: %.4f' % loss.data.numpy())\n",
    "\n",
    "            # plotting decoded image (second row)\n",
    "#             _, decoded_data = autoencoder(view_data)\n",
    "#             for i in range(N_TEST_IMG):\n",
    "#                 a[1][i].clear()\n",
    "#                 a[1][i].imshow(np.reshape(decoded_data.data.numpy()[i], (28, 28)), cmap='gray')\n",
    "#                 a[1][i].set_xticks(()); a[1][i].set_yticks(())\n",
    "#             plt.draw(); plt.pause(0.05)"
   ]
  },
  {
   "cell_type": "code",
   "execution_count": 10,
   "metadata": {},
   "outputs": [],
   "source": [
    "# plt.ioff()\n",
    "# plt.show()\n",
    "\n",
    "# # visualize in 3D plot\n",
    "# view_data = train_data.train_data[:200].view(-1, 28*28).type(torch.FloatTensor)/255.\n",
    "# encoded_data, _ = autoencoder(view_data)\n",
    "# fig = plt.figure(2); ax = Axes3D(fig)\n",
    "# X, Y, Z = encoded_data.data[:, 0].numpy(), encoded_data.data[:, 1].numpy(), encoded_data.data[:, 2].numpy()\n",
    "# values = train_data.train_labels[:200].numpy()\n",
    "# for x, y, z, s in zip(X, Y, Z, values):\n",
    "#     c = cm.rainbow(int(255*s/9)); ax.text(x, y, z, s, backgroundcolor=c)\n",
    "# ax.set_xlim(X.min(), X.max()); ax.set_ylim(Y.min(), Y.max()); ax.set_zlim(Z.min(), Z.max())\n",
    "# plt.show()"
   ]
  }
 ],
 "metadata": {
  "kernelspec": {
   "display_name": "Python 3",
   "language": "python",
   "name": "python3"
  },
  "language_info": {
   "codemirror_mode": {
    "name": "ipython",
    "version": 3
   },
   "file_extension": ".py",
   "mimetype": "text/x-python",
   "name": "python",
   "nbconvert_exporter": "python",
   "pygments_lexer": "ipython3",
   "version": "3.5.2"
  }
 },
 "nbformat": 4,
 "nbformat_minor": 2
}
