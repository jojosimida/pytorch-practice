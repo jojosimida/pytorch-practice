{
 "cells": [
  {
   "cell_type": "code",
   "execution_count": 1,
   "metadata": {},
   "outputs": [],
   "source": [
    "import torch\n",
    "import torch.nn as nn\n",
    "import torch.utils.data as Data\n",
    "import torchvision\n",
    "\n",
    "# torch.manual_seed(1)"
   ]
  },
  {
   "cell_type": "code",
   "execution_count": 2,
   "metadata": {},
   "outputs": [],
   "source": [
    "EPOCH = 1\n",
    "BATCH_SIZE = 50\n",
    "LR = 0.001\n",
    "DOWNLOAD_MNIST = False"
   ]
  },
  {
   "cell_type": "code",
   "execution_count": 3,
   "metadata": {},
   "outputs": [],
   "source": [
    "train_data = torchvision.datasets.MNIST(root='./mnist/', train=True, transform=torchvision.transforms.ToTensor(), download=DOWNLOAD_MNIST,)\n",
    "train_loader = Data.DataLoader(dataset=train_data, batch_size=BATCH_SIZE, shuffle=True)\n",
    "\n",
    "test_data = torchvision.datasets.MNIST(root='./mnist/', train=False)"
   ]
  },
  {
   "cell_type": "code",
   "execution_count": 4,
   "metadata": {},
   "outputs": [],
   "source": [
    "test_x = torch.unsqueeze(test_data.test_data, dim=1).type(torch.FloatTensor)[:2000].cuda()/255.   # Tensor on GPU\n",
    "test_y = test_data.test_labels[:2000].cuda()"
   ]
  },
  {
   "cell_type": "code",
   "execution_count": 5,
   "metadata": {},
   "outputs": [],
   "source": [
    "class CNN(nn.Module):\n",
    "    def __init__(self):\n",
    "        super(CNN, self).__init__()\n",
    "        self.conv1 = nn.Sequential(\n",
    "                        nn.Conv2d(in_channels=1, out_channels=16, \n",
    "                              kernel_size=5, stride=1, padding=2,),\n",
    "                        nn.ReLU(), \n",
    "                        nn.MaxPool2d(kernel_size=2),)\n",
    "        self.conv2 = nn.Sequential(\n",
    "                        nn.Conv2d(16, 32, 5, 1, 2), \n",
    "                        nn.ReLU(), \n",
    "                        nn.MaxPool2d(2),)\n",
    "        self.out = nn.Linear(32 * 7 * 7, 10)\n",
    "\n",
    "    def forward(self, x):\n",
    "        x = self.conv1(x)\n",
    "        x = self.conv2(x)\n",
    "        x = x.view(x.size(0), -1)\n",
    "        output = self.out(x)\n",
    "        return output"
   ]
  },
  {
   "cell_type": "code",
   "execution_count": 6,
   "metadata": {},
   "outputs": [
    {
     "data": {
      "text/plain": [
       "CNN(\n",
       "  (conv1): Sequential(\n",
       "    (0): Conv2d(1, 16, kernel_size=(5, 5), stride=(1, 1), padding=(2, 2))\n",
       "    (1): ReLU()\n",
       "    (2): MaxPool2d(kernel_size=2, stride=2, padding=0, dilation=1, ceil_mode=False)\n",
       "  )\n",
       "  (conv2): Sequential(\n",
       "    (0): Conv2d(16, 32, kernel_size=(5, 5), stride=(1, 1), padding=(2, 2))\n",
       "    (1): ReLU()\n",
       "    (2): MaxPool2d(kernel_size=2, stride=2, padding=0, dilation=1, ceil_mode=False)\n",
       "  )\n",
       "  (out): Linear(in_features=1568, out_features=10, bias=True)\n",
       ")"
      ]
     },
     "execution_count": 6,
     "metadata": {},
     "output_type": "execute_result"
    }
   ],
   "source": [
    "cnn = CNN()\n",
    "cnn.cuda()      # Moves all model parameters and buffers to the GPU."
   ]
  },
  {
   "cell_type": "code",
   "execution_count": 7,
   "metadata": {},
   "outputs": [],
   "source": [
    "optimizer = torch.optim.Adam(cnn.parameters(), lr=LR)\n",
    "loss_func = nn.CrossEntropyLoss()"
   ]
  },
  {
   "cell_type": "code",
   "execution_count": 8,
   "metadata": {},
   "outputs": [
    {
     "name": "stdout",
     "output_type": "stream",
     "text": [
      "Epoch:  0 | train loss: 2.2933 | test accuracy: 0.15\n",
      "Epoch:  0 | train loss: 0.5384 | test accuracy: 0.79\n",
      "Epoch:  0 | train loss: 0.2488 | test accuracy: 0.90\n",
      "Epoch:  0 | train loss: 0.2262 | test accuracy: 0.90\n",
      "Epoch:  0 | train loss: 0.2731 | test accuracy: 0.93\n",
      "Epoch:  0 | train loss: 0.1069 | test accuracy: 0.94\n",
      "Epoch:  0 | train loss: 0.0891 | test accuracy: 0.95\n",
      "Epoch:  0 | train loss: 0.1518 | test accuracy: 0.95\n",
      "Epoch:  0 | train loss: 0.2976 | test accuracy: 0.96\n",
      "Epoch:  0 | train loss: 0.1577 | test accuracy: 0.96\n",
      "Epoch:  0 | train loss: 0.3434 | test accuracy: 0.97\n",
      "Epoch:  0 | train loss: 0.1165 | test accuracy: 0.96\n",
      "Epoch:  0 | train loss: 0.0549 | test accuracy: 0.97\n",
      "Epoch:  0 | train loss: 0.1365 | test accuracy: 0.97\n",
      "Epoch:  0 | train loss: 0.0331 | test accuracy: 0.97\n",
      "Epoch:  0 | train loss: 0.0483 | test accuracy: 0.97\n",
      "Epoch:  0 | train loss: 0.0576 | test accuracy: 0.97\n",
      "Epoch:  0 | train loss: 0.1473 | test accuracy: 0.97\n",
      "Epoch:  0 | train loss: 0.1235 | test accuracy: 0.97\n",
      "Epoch:  0 | train loss: 0.0885 | test accuracy: 0.97\n",
      "Epoch:  0 | train loss: 0.0732 | test accuracy: 0.97\n",
      "Epoch:  0 | train loss: 0.0567 | test accuracy: 0.98\n",
      "Epoch:  0 | train loss: 0.1750 | test accuracy: 0.98\n",
      "Epoch:  0 | train loss: 0.0673 | test accuracy: 0.98\n"
     ]
    }
   ],
   "source": [
    "for epoch in range(EPOCH):\n",
    "    for step, (x, y) in enumerate(train_loader):\n",
    "\n",
    "        # !!!!!!!! Change in here !!!!!!!!! #\n",
    "        b_x = x.cuda()    # Tensor on GPU\n",
    "        b_y = y.cuda()    # Tensor on GPU\n",
    "\n",
    "        output = cnn(b_x)\n",
    "        loss = loss_func(output, b_y)\n",
    "        optimizer.zero_grad()\n",
    "        loss.backward()\n",
    "        optimizer.step()\n",
    "\n",
    "        if step % 50 == 0:\n",
    "            test_output = cnn(test_x)\n",
    "\n",
    "            # !!!!!!!! Change in here !!!!!!!!! #\n",
    "            pred_y = torch.max(test_output, 1)[1].cuda().data.squeeze()  # move the computation in GPU\n",
    "            \n",
    "            # change the dtype\n",
    "            accuracy = torch.sum(pred_y == test_y).type(torch.FloatTensor)/2000\n",
    "            print('Epoch: ', epoch, '| train loss: %.4f' % loss.cpu(), '| test accuracy: %.2f' % accuracy)\n"
   ]
  },
  {
   "cell_type": "code",
   "execution_count": 9,
   "metadata": {},
   "outputs": [
    {
     "name": "stdout",
     "output_type": "stream",
     "text": [
      "tensor([ 7,  2,  1,  0,  4,  1,  4,  9,  5,  9], device='cuda:0') prediction number\n",
      "tensor([ 7,  2,  1,  0,  4,  1,  4,  9,  5,  9], device='cuda:0') real number\n"
     ]
    }
   ],
   "source": [
    "test_output = cnn(test_x[:10])\n",
    "\n",
    "# !!!!!!!! Change in here !!!!!!!!! #\n",
    "pred_y = torch.max(test_output, 1)[1].cuda().data.squeeze() # move the computation in GPU\n",
    "\n",
    "print(pred_y, 'prediction number')\n",
    "print(test_y[:10], 'real number')"
   ]
  }
 ],
 "metadata": {
  "kernelspec": {
   "display_name": "Python 3",
   "language": "python",
   "name": "python3"
  },
  "language_info": {
   "codemirror_mode": {
    "name": "ipython",
    "version": 3
   },
   "file_extension": ".py",
   "mimetype": "text/x-python",
   "name": "python",
   "nbconvert_exporter": "python",
   "pygments_lexer": "ipython3",
   "version": "3.5.2"
  }
 },
 "nbformat": 4,
 "nbformat_minor": 2
}
