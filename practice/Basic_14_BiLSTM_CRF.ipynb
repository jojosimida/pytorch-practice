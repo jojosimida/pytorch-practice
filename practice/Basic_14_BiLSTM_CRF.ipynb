{
 "cells": [
  {
   "cell_type": "markdown",
   "metadata": {},
   "source": [
    "\n",
    "Advanced: Making Dynamic Decisions and the Bi-LSTM CRF\n",
    "======================================================\n",
    "\n",
    "Dynamic versus Static Deep Learning Toolkits\n",
    "--------------------------------------------\n",
    "\n",
    "Pytorch is a *dynamic* neural network kit. Another example of a dynamic\n",
    "kit is `Dynet `(I mention this because\n",
    "working with Pytorch and Dynet is similar. If you see an example in\n",
    "Dynet, it will probably help you implement it in Pytorch). The opposite\n",
    "is the *static* tool kit, which includes Theano, Keras, TensorFlow, etc.\n",
    "The core difference is the following:\n",
    "\n",
    "* In a static toolkit, you define\n",
    "  a computation graph once, compile it, and then stream instances to it.\n",
    "* In a dynamic toolkit, you define a computation graph *for each\n",
    "  instance*. It is never compiled and is executed on-the-fly\n",
    "\n",
    "Without a lot of experience, it is difficult to appreciate the\n",
    "difference. One example is to suppose we want to build a deep\n",
    "constituent parser. Suppose our model involves roughly the following\n",
    "steps:\n",
    "\n",
    "* We build the tree bottom up\n",
    "* Tag the root nodes (the words of the sentence)\n",
    "* From there, use a neural network and the embeddings\n",
    "  of the words to find combinations that form constituents. Whenever you\n",
    "  form a new constituent, use some sort of technique to get an embedding\n",
    "  of the constituent. In this case, our network architecture will depend\n",
    "  completely on the input sentence. In the sentence \"The green cat\n",
    "  scratched the wall\", at some point in the model, we will want to combine\n",
    "  the span $(i,j,r) = (1, 3, \\text{NP})$ (that is, an NP constituent\n",
    "  spans word 1 to word 3, in this case \"The green cat\").\n",
    "\n",
    "However, another sentence might be \"Somewhere, the big fat cat scratched\n",
    "the wall\". In this sentence, we will want to form the constituent\n",
    "$(2, 4, NP)$ at some point. The constituents we will want to form\n",
    "will depend on the instance. If we just compile the computation graph\n",
    "once, as in a static toolkit, it will be exceptionally difficult or\n",
    "impossible to program this logic. In a dynamic toolkit though, there\n",
    "isn't just 1 pre-defined computation graph. There can be a new\n",
    "computation graph for each instance, so this problem goes away.\n",
    "\n",
    "Dynamic toolkits also have the advantage of being easier to debug and\n",
    "the code more closely resembling the host language (by that I mean that\n",
    "Pytorch and Dynet look more like actual Python code than Keras or\n",
    "Theano).\n",
    "\n",
    "Bi-LSTM Conditional Random Field Discussion\n",
    "-------------------------------------------\n",
    "\n",
    "For this section, we will see a full, complicated example of a Bi-LSTM\n",
    "Conditional Random Field for named-entity recognition. The LSTM tagger\n",
    "above is typically sufficient for part-of-speech tagging, but a sequence\n",
    "model like the CRF is really essential for strong performance on NER.\n",
    "Familiarity with CRF's is assumed. Although this name sounds scary, all\n",
    "the model is is a CRF but where an LSTM provides the features. This is\n",
    "an advanced model though, far more complicated than any earlier model in\n",
    "this tutorial. If you want to skip it, that is fine. To see if you're\n",
    "ready, see if you can:\n",
    "\n",
    "-  Write the recurrence for the viterbi variable at step i for tag k.\n",
    "-  Modify the above recurrence to compute the forward variables instead.\n",
    "-  Modify again the above recurrence to compute the forward variables in\n",
    "   log-space (hint: log-sum-exp)\n",
    "\n",
    "If you can do those three things, you should be able to understand the\n",
    "code below. Recall that the CRF computes a conditional probability. Let\n",
    "$y$ be a tag sequence and $x$ an input sequence of words.\n",
    "Then we compute\n",
    "\n",
    "\\begin{align}P(y|x) = \\frac{\\exp{(\\text{Score}(x, y)})}{\\sum_{y'} \\exp{(\\text{Score}(x, y')})}\\end{align}\n",
    "\n",
    "Where the score is determined by defining some log potentials\n",
    "$\\log \\psi_i(x,y)$ such that\n",
    "\n",
    "\\begin{align}\\text{Score}(x,y) = \\sum_i \\log \\psi_i(x,y)\\end{align}\n",
    "\n",
    "To make the partition function tractable, the potentials must look only\n",
    "at local features.\n",
    "\n",
    "In the Bi-LSTM CRF, we define two kinds of potentials: emission and\n",
    "transition. The emission potential for the word at index $i$ comes\n",
    "from the hidden state of the Bi-LSTM at timestep $i$. The\n",
    "transition scores are stored in a $|T|x|T|$ matrix\n",
    "$\\textbf{P}$, where $T$ is the tag set. In my\n",
    "implementation, $\\textbf{P}_{j,k}$ is the score of transitioning\n",
    "to tag $j$ from tag $k$. So:\n",
    "\n",
    "\\begin{align}\\text{Score}(x,y) = \\sum_i \\log \\psi_\\text{EMIT}(y_i \\rightarrow x_i) + \\log \\psi_\\text{TRANS}(y_{i-1} \\rightarrow y_i)\\end{align}\n",
    "\n",
    "\\begin{align}= \\sum_i h_i[y_i] + \\textbf{P}_{y_i, y_{i-1}}\\end{align}\n",
    "\n",
    "where in this second expression, we think of the tags as being assigned\n",
    "unique non-negative indices.\n",
    "\n",
    "If the above discussion was too brief, you can check out\n",
    " [this](http://www.cs.columbia.edu/%7Emcollins/crf.pdf) write up from\n",
    "Michael Collins on CRFs.\n",
    "\n",
    "Implementation Notes\n",
    "--------------------\n",
    "\n",
    "The example below implements the forward algorithm in log space to\n",
    "compute the partition function, and the viterbi algorithm to decode.\n",
    "Backpropagation will compute the gradients automatically for us. We\n",
    "don't have to do anything by hand.\n",
    "\n",
    "The implementation is not optimized. If you understand what is going on,\n",
    "you'll probably quickly see that iterating over the next tag in the\n",
    "forward algorithm could probably be done in one big operation. I wanted\n",
    "to code to be more readable. If you want to make the relevant change,\n",
    "you could probably use this tagger for real tasks.\n",
    "\n"
   ]
  },
  {
   "cell_type": "code",
   "execution_count": 1,
   "metadata": {},
   "outputs": [
    {
     "data": {
      "text/plain": [
       "<torch._C.Generator at 0x7fbad4016f90>"
      ]
     },
     "execution_count": 1,
     "metadata": {},
     "output_type": "execute_result"
    }
   ],
   "source": [
    "# Author: Robert Guthrie\n",
    "\n",
    "import torch\n",
    "import torch.autograd as autograd\n",
    "import torch.nn as nn\n",
    "import torch.optim as optim\n",
    "\n",
    "torch.manual_seed(1)"
   ]
  },
  {
   "cell_type": "code",
   "execution_count": 2,
   "metadata": {},
   "outputs": [],
   "source": [
    "def argmax(vec):\n",
    "    # return the argmax as a python int\n",
    "    _, idx = torch.max(vec, 1)\n",
    "    return idx.item()\n",
    "\n",
    "\n",
    "def prepare_sequence(seq, to_ix):\n",
    "    idxs = [to_ix[w] for w in seq]\n",
    "    return torch.tensor(idxs, dtype=torch.long)\n",
    "\n",
    "\n",
    "# Compute log sum exp in a numerically stable way for the forward algorithm\n",
    "def log_sum_exp(vec):\n",
    "    max_score = vec[0, argmax(vec)]\n",
    "    max_score_broadcast = max_score.view(1, -1).expand(1, vec.size()[1])\n",
    "    return max_score + \\\n",
    "        torch.log(torch.sum(torch.exp(vec - max_score_broadcast)))"
   ]
  },
  {
   "cell_type": "markdown",
   "metadata": {},
   "source": [
    "Create model"
   ]
  },
  {
   "cell_type": "code",
   "execution_count": 3,
   "metadata": {},
   "outputs": [],
   "source": [
    "class BiLSTM_CRF(nn.Module):\n",
    "\n",
    "    def __init__(self, vocab_size, tag_to_ix, embedding_dim, hidden_dim):\n",
    "        super(BiLSTM_CRF, self).__init__()\n",
    "        self.embedding_dim = embedding_dim\n",
    "        self.hidden_dim = hidden_dim\n",
    "        self.vocab_size = vocab_size\n",
    "        self.tag_to_ix = tag_to_ix\n",
    "        self.tagset_size = len(tag_to_ix)\n",
    "\n",
    "        self.word_embeds = nn.Embedding(vocab_size, embedding_dim)\n",
    "        self.lstm = nn.LSTM(embedding_dim, hidden_dim // 2,\n",
    "                            num_layers=1, bidirectional=True)\n",
    "\n",
    "        # Maps the output of the LSTM into tag space.\n",
    "        self.hidden2tag = nn.Linear(hidden_dim, self.tagset_size)\n",
    "\n",
    "        # Matrix of transition parameters.  Entry i,j is the score of\n",
    "        # transitioning *to* i *from* j.\n",
    "        self.transitions = nn.Parameter(\n",
    "            torch.randn(self.tagset_size, self.tagset_size))\n",
    "\n",
    "        # These two statements enforce the constraint that we never transfer\n",
    "        # to the start tag and we never transfer from the stop tag\n",
    "        self.transitions.data[tag_to_ix[START_TAG], :] = -10000\n",
    "        self.transitions.data[:, tag_to_ix[STOP_TAG]] = -10000\n",
    "\n",
    "        self.hidden = self.init_hidden()\n",
    "\n",
    "    def init_hidden(self):\n",
    "        return (torch.randn(2, 1, self.hidden_dim // 2),\n",
    "                torch.randn(2, 1, self.hidden_dim // 2))\n",
    "\n",
    "    def _forward_alg(self, feats):\n",
    "        # Do the forward algorithm to compute the partition function\n",
    "        init_alphas = torch.full((1, self.tagset_size), -10000.)\n",
    "        # START_TAG has all of the score.\n",
    "        init_alphas[0][self.tag_to_ix[START_TAG]] = 0.\n",
    "\n",
    "        # Wrap in a variable so that we will get automatic backprop\n",
    "        forward_var = init_alphas\n",
    "\n",
    "        # Iterate through the sentence\n",
    "        for feat in feats:\n",
    "            alphas_t = []  # The forward tensors at this timestep\n",
    "            for next_tag in range(self.tagset_size):\n",
    "                # broadcast the emission score: it is the same regardless of\n",
    "                # the previous tag\n",
    "                emit_score = feat[next_tag].view(\n",
    "                    1, -1).expand(1, self.tagset_size)\n",
    "                # the ith entry of trans_score is the score of transitioning to\n",
    "                # next_tag from i\n",
    "                trans_score = self.transitions[next_tag].view(1, -1)\n",
    "                # The ith entry of next_tag_var is the value for the\n",
    "                # edge (i -> next_tag) before we do log-sum-exp\n",
    "                next_tag_var = forward_var + trans_score + emit_score\n",
    "                # The forward variable for this tag is log-sum-exp of all the\n",
    "                # scores.\n",
    "                alphas_t.append(log_sum_exp(next_tag_var).view(1))\n",
    "            forward_var = torch.cat(alphas_t).view(1, -1)\n",
    "        terminal_var = forward_var + self.transitions[self.tag_to_ix[STOP_TAG]]\n",
    "        alpha = log_sum_exp(terminal_var)\n",
    "        return alpha\n",
    "\n",
    "    def _get_lstm_features(self, sentence):\n",
    "        self.hidden = self.init_hidden()\n",
    "        embeds = self.word_embeds(sentence).view(len(sentence), 1, -1)\n",
    "        lstm_out, self.hidden = self.lstm(embeds, self.hidden)\n",
    "        lstm_out = lstm_out.view(len(sentence), self.hidden_dim)\n",
    "        lstm_feats = self.hidden2tag(lstm_out)\n",
    "        return lstm_feats\n",
    "\n",
    "    def _score_sentence(self, feats, tags):\n",
    "        # Gives the score of a provided tag sequence\n",
    "        score = torch.zeros(1)\n",
    "        tags = torch.cat([torch.tensor([self.tag_to_ix[START_TAG]], dtype=torch.long), tags])\n",
    "        for i, feat in enumerate(feats):\n",
    "            score = score + \\\n",
    "                self.transitions[tags[i + 1], tags[i]] + feat[tags[i + 1]]\n",
    "        score = score + self.transitions[self.tag_to_ix[STOP_TAG], tags[-1]]\n",
    "        return score\n",
    "\n",
    "    def _viterbi_decode(self, feats):\n",
    "        backpointers = []\n",
    "\n",
    "        # Initialize the viterbi variables in log space\n",
    "        init_vvars = torch.full((1, self.tagset_size), -10000.)\n",
    "        init_vvars[0][self.tag_to_ix[START_TAG]] = 0\n",
    "\n",
    "        # forward_var at step i holds the viterbi variables for step i-1\n",
    "        forward_var = init_vvars\n",
    "        for feat in feats:\n",
    "            bptrs_t = []  # holds the backpointers for this step\n",
    "            viterbivars_t = []  # holds the viterbi variables for this step\n",
    "\n",
    "            for next_tag in range(self.tagset_size):\n",
    "                # next_tag_var[i] holds the viterbi variable for tag i at the\n",
    "                # previous step, plus the score of transitioning\n",
    "                # from tag i to next_tag.\n",
    "                # We don't include the emission scores here because the max\n",
    "                # does not depend on them (we add them in below)\n",
    "                next_tag_var = forward_var + self.transitions[next_tag]\n",
    "                best_tag_id = argmax(next_tag_var)\n",
    "                bptrs_t.append(best_tag_id)\n",
    "                viterbivars_t.append(next_tag_var[0][best_tag_id].view(1))\n",
    "            # Now add in the emission scores, and assign forward_var to the set\n",
    "            # of viterbi variables we just computed\n",
    "            forward_var = (torch.cat(viterbivars_t) + feat).view(1, -1)\n",
    "            backpointers.append(bptrs_t)\n",
    "\n",
    "        # Transition to STOP_TAG\n",
    "        terminal_var = forward_var + self.transitions[self.tag_to_ix[STOP_TAG]]\n",
    "        best_tag_id = argmax(terminal_var)\n",
    "        path_score = terminal_var[0][best_tag_id]\n",
    "\n",
    "        # Follow the back pointers to decode the best path.\n",
    "        best_path = [best_tag_id]\n",
    "        for bptrs_t in reversed(backpointers):\n",
    "            best_tag_id = bptrs_t[best_tag_id]\n",
    "            best_path.append(best_tag_id)\n",
    "        # Pop off the start tag (we dont want to return that to the caller)\n",
    "        start = best_path.pop()\n",
    "        assert start == self.tag_to_ix[START_TAG]  # Sanity check\n",
    "        best_path.reverse()\n",
    "        return path_score, best_path\n",
    "\n",
    "    def neg_log_likelihood(self, sentence, tags):\n",
    "        feats = self._get_lstm_features(sentence)\n",
    "        forward_score = self._forward_alg(feats)\n",
    "        gold_score = self._score_sentence(feats, tags)\n",
    "        return forward_score - gold_score\n",
    "\n",
    "    def forward(self, sentence):  # dont confuse this with _forward_alg above.\n",
    "        # Get the emission scores from the BiLSTM\n",
    "        lstm_feats = self._get_lstm_features(sentence)\n",
    "\n",
    "        # Find the best path, given the features.\n",
    "        score, tag_seq = self._viterbi_decode(lstm_feats)\n",
    "        return score, tag_seq"
   ]
  },
  {
   "cell_type": "markdown",
   "metadata": {},
   "source": [
    "Run training"
   ]
  },
  {
   "cell_type": "code",
   "execution_count": 4,
   "metadata": {},
   "outputs": [
    {
     "name": "stdout",
     "output_type": "stream",
     "text": [
      "(tensor(2.6907), [1, 2, 2, 2, 2, 2, 2, 2, 2, 2, 1])\n",
      "(tensor(20.4906), [0, 1, 1, 1, 2, 2, 2, 0, 1, 2, 2])\n"
     ]
    }
   ],
   "source": [
    "START_TAG = \"<START>\"\n",
    "STOP_TAG = \"<STOP>\"\n",
    "EMBEDDING_DIM = 5\n",
    "HIDDEN_DIM = 4\n",
    "\n",
    "# Make up some training data\n",
    "training_data = [(\n",
    "    \"the wall street journal reported today that apple corporation made money\".split(),\n",
    "    \"B I I I O O O B I O O\".split()\n",
    "), (\n",
    "    \"georgia tech is a university in georgia\".split(),\n",
    "    \"B I O O O O B\".split()\n",
    ")]\n",
    "\n",
    "word_to_ix = {}\n",
    "for sentence, tags in training_data:\n",
    "    for word in sentence:\n",
    "        if word not in word_to_ix:\n",
    "            word_to_ix[word] = len(word_to_ix)\n",
    "\n",
    "tag_to_ix = {\"B\": 0, \"I\": 1, \"O\": 2, START_TAG: 3, STOP_TAG: 4}\n",
    "\n",
    "model = BiLSTM_CRF(len(word_to_ix), tag_to_ix, EMBEDDING_DIM, HIDDEN_DIM)\n",
    "optimizer = optim.SGD(model.parameters(), lr=0.01, weight_decay=1e-4)\n",
    "\n",
    "# Check predictions before training\n",
    "with torch.no_grad():\n",
    "    precheck_sent = prepare_sequence(training_data[0][0], word_to_ix)\n",
    "    precheck_tags = torch.tensor([tag_to_ix[t] for t in training_data[0][1]], dtype=torch.long)\n",
    "    print(model(precheck_sent))\n",
    "\n",
    "# Make sure prepare_sequence from earlier in the LSTM section is loaded\n",
    "for epoch in range(\n",
    "        300):  # again, normally you would NOT do 300 epochs, it is toy data\n",
    "    for sentence, tags in training_data:\n",
    "        # Step 1. Remember that Pytorch accumulates gradients.\n",
    "        # We need to clear them out before each instance\n",
    "        model.zero_grad()\n",
    "\n",
    "        # Step 2. Get our inputs ready for the network, that is,\n",
    "        # turn them into Tensors of word indices.\n",
    "        sentence_in = prepare_sequence(sentence, word_to_ix)\n",
    "        targets = torch.tensor([tag_to_ix[t] for t in tags], dtype=torch.long)\n",
    "\n",
    "        # Step 3. Run our forward pass.\n",
    "        loss = model.neg_log_likelihood(sentence_in, targets)\n",
    "\n",
    "        # Step 4. Compute the loss, gradients, and update the parameters by\n",
    "        # calling optimizer.step()\n",
    "        loss.backward()\n",
    "        optimizer.step()\n",
    "\n",
    "# Check predictions after training\n",
    "with torch.no_grad():\n",
    "    precheck_sent = prepare_sequence(training_data[0][0], word_to_ix)\n",
    "    print(model(precheck_sent))\n",
    "# We got it!"
   ]
  },
  {
   "cell_type": "markdown",
   "metadata": {},
   "source": [
    "## dismantle the code"
   ]
  },
  {
   "cell_type": "code",
   "execution_count": 5,
   "metadata": {},
   "outputs": [],
   "source": [
    "g1 = nn.Embedding(len(word_to_ix), 5)\n",
    "g2 = nn.LSTM(5, 4 // 2, num_layers=1, bidirectional=True)\n",
    "g3 = nn.Linear(4, len(tag_to_ix))\n",
    "\n",
    "hidden = (torch.randn(2, 1, 4 // 2),\n",
    "                torch.randn(2, 1, 4 // 2))\n",
    "embeds = g1(sentence_in).view(len(sentence_in), 1, -1)\n",
    "lstm_out, hidden = g2(embeds, hidden)\n",
    "lstm_out = lstm_out.view(len(sentence_in), 4)\n",
    "lstm_feats = g3(lstm_out)"
   ]
  },
  {
   "cell_type": "code",
   "execution_count": 6,
   "metadata": {},
   "outputs": [
    {
     "data": {
      "text/plain": [
       "tensor([[-0.3214,  0.1823,  0.3811,  0.3959,  0.3354],\n",
       "        [-0.2954,  0.1544,  0.4453,  0.3941,  0.3054],\n",
       "        [-0.2972,  0.1797,  0.4617,  0.4124,  0.3042],\n",
       "        [-0.3206,  0.2172,  0.4290,  0.4237,  0.3209],\n",
       "        [-0.4529,  0.2461,  0.5236,  0.4379,  0.1727],\n",
       "        [-0.3379,  0.1827,  0.3660,  0.4049,  0.3317],\n",
       "        [-0.3534,  0.2311,  0.3323,  0.4192,  0.3596]])"
      ]
     },
     "execution_count": 6,
     "metadata": {},
     "output_type": "execute_result"
    }
   ],
   "source": [
    "lstm_feats"
   ]
  },
  {
   "cell_type": "code",
   "execution_count": 7,
   "metadata": {},
   "outputs": [],
   "source": [
    "ginit_alphas = torch.full((1, len(tag_to_ix)), -10000.)"
   ]
  },
  {
   "cell_type": "code",
   "execution_count": 8,
   "metadata": {},
   "outputs": [],
   "source": [
    "ginit_alphas[0][tag_to_ix[START_TAG]] = 0."
   ]
  },
  {
   "cell_type": "code",
   "execution_count": 9,
   "metadata": {},
   "outputs": [
    {
     "data": {
      "text/plain": [
       "tensor([[-10000., -10000., -10000.,      0., -10000.]])"
      ]
     },
     "execution_count": 9,
     "metadata": {},
     "output_type": "execute_result"
    }
   ],
   "source": [
    "ginit_alphas"
   ]
  },
  {
   "cell_type": "code",
   "execution_count": 10,
   "metadata": {},
   "outputs": [
    {
     "data": {
      "text/plain": [
       "Parameter containing:\n",
       "tensor([[-0.2118, -0.9738,  0.5587,  0.5149, -0.1227],\n",
       "        [-0.7352,  1.2910, -1.5208, -0.4635,  0.6925],\n",
       "        [-0.8121, -0.1231,  0.1285, -1.5442, -0.1523],\n",
       "        [-0.4204,  1.3165, -0.2207,  0.7430,  0.2452],\n",
       "        [ 0.6769, -0.2104, -0.0370, -2.6092,  0.3225]])"
      ]
     },
     "execution_count": 10,
     "metadata": {},
     "output_type": "execute_result"
    }
   ],
   "source": [
    "gtransitions = nn.Parameter(torch.randn(len(tag_to_ix), len(tag_to_ix)))\n",
    "gtransitions"
   ]
  },
  {
   "cell_type": "code",
   "execution_count": 11,
   "metadata": {},
   "outputs": [
    {
     "data": {
      "text/plain": [
       "Parameter containing:\n",
       "tensor([[-2.1180e-01, -9.7383e-01,  5.5873e-01,  5.1492e-01, -1.0000e+04],\n",
       "        [-7.3521e-01,  1.2910e+00, -1.5208e+00, -4.6352e-01, -1.0000e+04],\n",
       "        [-8.1209e-01, -1.2313e-01,  1.2853e-01, -1.5442e+00, -1.0000e+04],\n",
       "        [-1.0000e+04, -1.0000e+04, -1.0000e+04, -1.0000e+04, -1.0000e+04],\n",
       "        [ 6.7686e-01, -2.1036e-01, -3.7046e-02, -2.6092e+00, -1.0000e+04]])"
      ]
     },
     "execution_count": 11,
     "metadata": {},
     "output_type": "execute_result"
    }
   ],
   "source": [
    "gtransitions.data[tag_to_ix[START_TAG], :] = -10000\n",
    "gtransitions.data[:, tag_to_ix[STOP_TAG]] = -10000\n",
    "gtransitions"
   ]
  },
  {
   "cell_type": "code",
   "execution_count": 12,
   "metadata": {},
   "outputs": [
    {
     "data": {
      "text/plain": [
       "tensor([[-2.1180e-01, -9.7383e-01,  5.5873e-01,  5.1492e-01, -1.0000e+04]])"
      ]
     },
     "execution_count": 12,
     "metadata": {},
     "output_type": "execute_result"
    }
   ],
   "source": [
    "gtransitions[0].view(1, -1)"
   ]
  },
  {
   "cell_type": "code",
   "execution_count": 14,
   "metadata": {},
   "outputs": [
    {
     "data": {
      "text/plain": [
       "tensor(-2.6092)"
      ]
     },
     "execution_count": 14,
     "metadata": {},
     "output_type": "execute_result"
    }
   ],
   "source": [
    "gtransitions[tag_to_ix[STOP_TAG],3]"
   ]
  },
  {
   "cell_type": "code",
   "execution_count": 22,
   "metadata": {},
   "outputs": [
    {
     "name": "stdout",
     "output_type": "stream",
     "text": [
      "[tensor([ 0.1935]), tensor([-0.2812]), tensor([-1.1631]), tensor([-9999.6045]), tensor([-2.2738])]\n",
      "tensor([    0.1935,    -0.2812,    -1.1631, -9999.6045,    -2.2738])\n",
      "tensor([[    0.1935,    -0.2812,    -1.1631, -9999.6045,    -2.2738]])\n"
     ]
    }
   ],
   "source": [
    "forward_var = ginit_alphas\n",
    "for feat in lstm_feats:\n",
    "    alphas_t = []  # The forward tensors at this timestep\n",
    "    for next_tag in range(len(tag_to_ix)):\n",
    "        # broadcast the emission score: it is the same regardless of\n",
    "        # the previous tag\n",
    "        emit_score = feat[next_tag].view(\n",
    "            1, -1).expand(1, len(tag_to_ix))\n",
    "        # the ith entry of trans_score is the score of transitioning to\n",
    "        # next_tag from i\n",
    "        trans_score = gtransitions[next_tag].view(1, -1)\n",
    "        # The ith entry of next_tag_var is the value for the\n",
    "        # edge (i -> next_tag) before we do log-sum-exp\n",
    "        next_tag_var = forward_var + trans_score + emit_score\n",
    "        # The forward variable for this tag is log-sum-exp of all the\n",
    "        # scores.\n",
    "        alphas_t.append(log_sum_exp(next_tag_var).view(1))\n",
    "        \n",
    "    print(alphas_t)\n",
    "    forward_var = torch.cat(alphas_t).view(1, -1)\n",
    "    print(torch.cat(alphas_t))\n",
    "    print(forward_var)\n",
    "    break"
   ]
  },
  {
   "cell_type": "code",
   "execution_count": 16,
   "metadata": {},
   "outputs": [
    {
     "data": {
      "text/plain": [
       "tensor([[-0.3214, -0.3214, -0.3214, -0.3214, -0.3214]])"
      ]
     },
     "execution_count": 16,
     "metadata": {},
     "output_type": "execute_result"
    }
   ],
   "source": [
    "emit_score"
   ]
  },
  {
   "cell_type": "code",
   "execution_count": 17,
   "metadata": {},
   "outputs": [
    {
     "data": {
      "text/plain": [
       "tensor([ 3,  0,  1,  2,  2,  2,  2,  0])"
      ]
     },
     "execution_count": 17,
     "metadata": {},
     "output_type": "execute_result"
    }
   ],
   "source": [
    "gtags = torch.cat([torch.tensor([tag_to_ix[START_TAG]], dtype=torch.long), targets])\n",
    "gtags"
   ]
  },
  {
   "cell_type": "code",
   "execution_count": 24,
   "metadata": {},
   "outputs": [
    {
     "name": "stdout",
     "output_type": "stream",
     "text": [
      "None tensor([[   -1.6254,    -2.3749,    -0.4185,     0.8885, -9994.1406],\n",
      "        [    1.6387,     0.1087,    -1.5934,     0.3078, -9994.1406],\n",
      "        [   -1.4815,     0.6996,     1.1363,    -0.2377, -9994.1406],\n",
      "        [-9994.1406, -9994.1406, -9994.1406, -9994.1406, -9994.1406],\n",
      "        [    0.5448,    -1.0184,    -0.2105,    -0.3059, -9994.1406]])\n",
      "None tensor([[-1.5202, -0.6335, -0.5530, -1.5777, -0.1350],\n",
      "        [-0.6963, -0.9055, -1.7262, -0.5719,  0.2840],\n",
      "        [-0.8205, -0.0490, -0.3728,  1.8522,  0.2108],\n",
      "        [ 0.3353, -0.4386, -1.4732,  1.1047,  0.2743],\n",
      "        [ 0.7991,  0.1587, -0.2809,  0.5179,  0.8440],\n",
      "        [-0.1961, -2.2758, -1.2942, -0.0331, -0.6895],\n",
      "        [-0.7787, -0.1330,  1.9078, -0.1331,  0.1643],\n",
      "        [-0.7055,  0.2741,  0.3452, -0.0673, -0.6305],\n",
      "        [-0.1542,  0.4280, -0.6506,  0.4632,  2.6414],\n",
      "        [-1.1137,  1.6054, -0.6037, -0.9469,  0.4573],\n",
      "        [ 0.0406, -0.3850,  0.8622,  0.4283,  1.0902],\n",
      "        [ 2.2746,  0.1656,  1.1790, -0.4021, -0.5327],\n",
      "        [ 1.4779, -0.8163, -3.3755, -0.6377, -0.0009],\n",
      "        [-1.0364, -0.6315, -0.9142, -0.2326, -0.4976],\n",
      "        [ 0.1169, -0.1732, -0.4826, -1.4823, -0.3457],\n",
      "        [-0.3368,  1.1833, -0.0638, -0.0624,  1.7489],\n",
      "        [-0.9009, -0.9487,  1.4785,  0.2972, -0.3659]])\n",
      "None tensor([[-0.0635,  0.4490,  0.3106, -0.4440, -0.7457],\n",
      "        [ 0.8292,  0.0797,  0.6902,  0.2609,  0.1790],\n",
      "        [ 0.6015,  0.6551, -0.2953,  0.1147,  0.4377],\n",
      "        [ 0.3172,  0.4424, -0.5094, -0.4221, -0.3340],\n",
      "        [-0.2183,  0.6424, -0.8988,  0.4971,  0.1842],\n",
      "        [-0.6688, -0.2721,  0.0872,  0.7978,  0.0456],\n",
      "        [ 0.2645,  0.6516,  0.6110,  0.4049,  0.3574],\n",
      "        [ 0.8185,  0.1347, -0.1040, -0.5250, -0.4166]])\n",
      "None tensor([[-0.1610, -0.4330],\n",
      "        [ 0.2412,  0.2335],\n",
      "        [-0.1574,  0.2774],\n",
      "        [ 0.2897,  0.4545],\n",
      "        [ 0.5314, -0.1724],\n",
      "        [ 0.8009, -0.0880],\n",
      "        [-0.1059, -0.6359],\n",
      "        [-0.4683, -0.3785]])\n",
      "None tensor([-0.0681,  0.4108, -0.2056, -0.7252,  0.3125,  0.1391,  0.6719,\n",
      "        -0.2463])\n",
      "None tensor([ 0.3874, -0.3489, -0.1334, -0.7603, -0.2815, -0.3036,  0.5164,\n",
      "         0.2485])\n",
      "None tensor([[ 0.0990,  0.3437,  0.1328,  0.3477,  0.1295],\n",
      "        [-0.7309,  0.5190, -0.1062,  0.0224, -0.6028],\n",
      "        [-0.2045, -0.6039,  0.5931, -0.4227, -0.5311],\n",
      "        [-0.0300, -0.3902,  0.1400, -0.3129, -0.3020],\n",
      "        [ 0.0561, -0.0429, -1.2618,  0.9246,  0.6566],\n",
      "        [ 0.5405, -0.5477,  0.6491, -0.5786,  0.6772],\n",
      "        [-0.3755,  0.0162, -0.3082,  0.1366,  0.1505],\n",
      "        [-0.2797,  0.2384,  0.0459,  0.2723, -0.6285]])\n",
      "None tensor([[ 0.4640,  0.5831],\n",
      "        [ 0.5805,  0.5161],\n",
      "        [-0.6030, -0.2397],\n",
      "        [ 0.6196, -0.5216],\n",
      "        [ 0.7259, -0.5333],\n",
      "        [-0.5937,  0.3619],\n",
      "        [-0.5115, -0.1603],\n",
      "        [ 0.5467,  0.5791]])\n",
      "None tensor([ 1.3090, -0.0461, -0.5328,  0.7017, -0.6873, -0.2627,  1.0859,\n",
      "        -0.2321])\n",
      "None tensor([ 1.1052,  0.5402, -0.5442, -0.5746, -0.5986,  0.3249,  0.8932,\n",
      "        -0.0962])\n",
      "None tensor([[-0.8353, -1.0037, -1.0562, -0.5989],\n",
      "        [ 0.7280,  0.3934,  2.1068, -0.2010],\n",
      "        [ 0.7531,  0.6410, -1.8237,  0.7779],\n",
      "        [ 0.3072, -0.0290, -0.0615,  0.4541],\n",
      "        [ 0.4368, -0.2833,  0.4889,  0.1237]])\n",
      "None tensor([-0.0749,  0.0345, -0.3910,  0.4617, -0.3212])\n"
     ]
    }
   ],
   "source": [
    "for p in model.parameters():\n",
    "    if p.requires_grad:\n",
    "         print(p.name, p.data)"
   ]
  },
  {
   "cell_type": "code",
   "execution_count": null,
   "metadata": {},
   "outputs": [],
   "source": []
  }
 ],
 "metadata": {
  "kernelspec": {
   "display_name": "Python 3",
   "language": "python",
   "name": "python3"
  },
  "language_info": {
   "codemirror_mode": {
    "name": "ipython",
    "version": 3
   },
   "file_extension": ".py",
   "mimetype": "text/x-python",
   "name": "python",
   "nbconvert_exporter": "python",
   "pygments_lexer": "ipython3",
   "version": "3.5.2"
  }
 },
 "nbformat": 4,
 "nbformat_minor": 2
}
